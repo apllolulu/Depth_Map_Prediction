{
 "cells": [
  {
   "cell_type": "code",
   "execution_count": 31,
   "metadata": {},
   "outputs": [
    {
     "ename": "SyntaxError",
     "evalue": "invalid syntax (thutil.py, line 325)",
     "output_type": "error",
     "traceback": [
      "Traceback \u001b[0;36m(most recent call last)\u001b[0m:\n",
      "  File \u001b[1;32m\"/home/ora/anaconda3/lib/python3.6/site-packages/IPython/core/interactiveshell.py\"\u001b[0m, line \u001b[1;32m2910\u001b[0m, in \u001b[1;35mrun_code\u001b[0m\n    exec(code_obj, self.user_global_ns, self.user_ns)\n",
      "  File \u001b[1;32m\"<ipython-input-31-456de8831d1e>\"\u001b[0m, line \u001b[1;32m6\u001b[0m, in \u001b[1;35m<module>\u001b[0m\n    import net\n",
      "  File \u001b[1;32m\"/media/ora/362b0807-5852-4af1-8f79-03a42964afb0/xy/Depth-Map-Prediction/Depth-Map-Prediction/net.py\"\u001b[0m, line \u001b[1;32m37\u001b[0m, in \u001b[1;35m<module>\u001b[0m\n    import pooling\n",
      "\u001b[0;36m  File \u001b[0;32m\"/media/ora/362b0807-5852-4af1-8f79-03a42964afb0/xy/Depth-Map-Prediction/Depth-Map-Prediction/pooling.py\"\u001b[0;36m, line \u001b[0;32m23\u001b[0;36m, in \u001b[0;35m<module>\u001b[0;36m\u001b[0m\n\u001b[0;31m    import thutil\u001b[0m\n",
      "\u001b[0;36m  File \u001b[0;32m\"/media/ora/362b0807-5852-4af1-8f79-03a42964afb0/xy/Depth-Map-Prediction/Depth-Map-Prediction/thutil.py\"\u001b[0;36m, line \u001b[0;32m325\u001b[0m\n\u001b[0;31m    for (k, v) in sorted(self.th_vars.items(), key=lambda (k,v): k))\u001b[0m\n\u001b[0m                                                          ^\u001b[0m\n\u001b[0;31mSyntaxError\u001b[0m\u001b[0;31m:\u001b[0m invalid syntax\n"
     ]
    }
   ],
   "source": [
    "#coding=utf-8\n",
    "import os\n",
    "import sys\n",
    "import numpy as np\n",
    "from PIL import Image\n",
    "import net"
   ]
  },
  {
   "cell_type": "code",
   "execution_count": null,
   "metadata": {
    "collapsed": true
   },
   "outputs": [],
   "source": []
  }
 ],
 "metadata": {
  "kernelspec": {
   "display_name": "tensorflow",
   "language": "python",
   "name": "tensorflow"
  },
  "language_info": {
   "codemirror_mode": {
    "name": "ipython",
    "version": 3
   },
   "file_extension": ".py",
   "mimetype": "text/x-python",
   "name": "python",
   "nbconvert_exporter": "python",
   "pygments_lexer": "ipython3",
   "version": "3.6.2"
  }
 },
 "nbformat": 4,
 "nbformat_minor": 2
}
